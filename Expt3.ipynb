{
 "cells": [
  {
   "cell_type": "code",
   "execution_count": 8,
   "id": "d13aebe0",
   "metadata": {},
   "outputs": [
    {
     "name": "stdout",
     "output_type": "stream",
     "text": [
      "       satisfaction_level  last_evaluation  number_project  \\\n",
      "0                    0.38             0.53               2   \n",
      "1                    0.80             0.86               5   \n",
      "2                    0.11             0.88               7   \n",
      "3                    0.72             0.87               5   \n",
      "4                    0.37             0.52               2   \n",
      "...                   ...              ...             ...   \n",
      "14994                0.40             0.57               2   \n",
      "14995                0.37             0.48               2   \n",
      "14996                0.37             0.53               2   \n",
      "14997                0.11             0.96               6   \n",
      "14998                0.37             0.52               2   \n",
      "\n",
      "       average_montly_hours  time_spend_company  Work_accident  left  \\\n",
      "0                       157                   3              0     1   \n",
      "1                       262                   6              0     1   \n",
      "2                       272                   4              0     1   \n",
      "3                       223                   5              0     1   \n",
      "4                       159                   3              0     1   \n",
      "...                     ...                 ...            ...   ...   \n",
      "14994                   151                   3              0     1   \n",
      "14995                   160                   3              0     1   \n",
      "14996                   143                   3              0     1   \n",
      "14997                   280                   4              0     1   \n",
      "14998                   158                   3              0     1   \n",
      "\n",
      "       promotion_last_5years    sales  salary  \n",
      "0                          0    sales     low  \n",
      "1                          0    sales  medium  \n",
      "2                          0    sales  medium  \n",
      "3                          0    sales     low  \n",
      "4                          0    sales     low  \n",
      "...                      ...      ...     ...  \n",
      "14994                      0  support     low  \n",
      "14995                      0  support     low  \n",
      "14996                      0  support     low  \n",
      "14997                      0  support     low  \n",
      "14998                      0  support     low  \n",
      "\n",
      "[14999 rows x 10 columns]\n"
     ]
    }
   ],
   "source": [
    "import numpy as np\n",
    "import pandas as pd\n",
    "\n",
    "# Load data\n",
    "data=pd.read_csv('HR_comma_sep.csv')\n",
    "\n",
    "print(data)"
   ]
  },
  {
   "cell_type": "code",
   "execution_count": 4,
   "id": "85b41fed",
   "metadata": {},
   "outputs": [],
   "source": [
    "# Import LabelEncoder\n",
    "from sklearn import preprocessing\n",
    "\n",
    "# Creating labelEncoder\n",
    "le = preprocessing.LabelEncoder()\n",
    "\n",
    "# Converting string labels into numbers.\n",
    "data['salary']=le.fit_transform(data['salary'])\n",
    "data['Departments ']=le.fit_transform(data['sales'])"
   ]
  },
  {
   "cell_type": "code",
   "execution_count": 5,
   "id": "ca5eadf7",
   "metadata": {},
   "outputs": [],
   "source": [
    "# Spliting data into Feature and\n",
    "X=data[['satisfaction_level', 'last_evaluation', 'number_project', 'average_montly_hours', 'time_spend_company', 'Work_accident', 'promotion_last_5years', 'Departments ', 'salary']]\n",
    "y=data['left']\n",
    "\n",
    "# Import train_test_split function\n",
    "from sklearn.model_selection import train_test_split\n",
    "\n",
    "# Split dataset into training set and test set\n",
    "X_train, X_test, y_train, y_test = train_test_split(X, y, test_size=0.3, random_state=42)  # 70% training and 30% test"
   ]
  },
  {
   "cell_type": "code",
   "execution_count": 38,
   "id": "defdab1e",
   "metadata": {},
   "outputs": [
    {
     "name": "stdout",
     "output_type": "stream",
     "text": [
      "Iteration 1, loss = 0.59331196\n",
      "Iteration 2, loss = 0.55391257\n",
      "Iteration 3, loss = 0.55014929\n",
      "Iteration 4, loss = 0.54656931\n",
      "Iteration 5, loss = 0.54517500\n",
      "Iteration 6, loss = 0.54111397\n",
      "Iteration 7, loss = 0.53294031\n",
      "Iteration 8, loss = 0.50553129\n",
      "Iteration 9, loss = 0.39372040\n",
      "Iteration 10, loss = 0.32477708\n",
      "Iteration 11, loss = 0.33466171\n",
      "Iteration 12, loss = 0.27764116\n",
      "Iteration 13, loss = 0.30492744\n",
      "Iteration 14, loss = 0.27807460\n",
      "Iteration 15, loss = 0.28082651\n",
      "Iteration 16, loss = 0.26336167\n",
      "Iteration 17, loss = 0.27448706\n",
      "Iteration 18, loss = 0.26480585\n",
      "Iteration 19, loss = 0.26017846\n",
      "Iteration 20, loss = 0.26031529\n",
      "Iteration 21, loss = 0.28444926\n",
      "Iteration 22, loss = 0.24832268\n",
      "Iteration 23, loss = 0.25775383\n",
      "Iteration 24, loss = 0.25186922\n",
      "Iteration 25, loss = 0.24368132\n",
      "Iteration 26, loss = 0.24400887\n",
      "Iteration 27, loss = 0.23938220\n",
      "Iteration 28, loss = 0.23669981\n",
      "Iteration 29, loss = 0.24359932\n",
      "Iteration 30, loss = 0.23618663\n",
      "Iteration 31, loss = 0.23003491\n",
      "Iteration 32, loss = 0.22740587\n",
      "Iteration 33, loss = 0.23246880\n",
      "Iteration 34, loss = 0.21992379\n",
      "Iteration 35, loss = 0.23026896\n",
      "Iteration 36, loss = 0.23594060\n",
      "Iteration 37, loss = 0.21798776\n",
      "Iteration 38, loss = 0.21689385\n",
      "Iteration 39, loss = 0.23216477\n",
      "Iteration 40, loss = 0.24139557\n",
      "Iteration 41, loss = 0.22208479\n",
      "Iteration 42, loss = 0.22302096\n",
      "Iteration 43, loss = 0.20975967\n",
      "Iteration 44, loss = 0.21694179\n",
      "Iteration 45, loss = 0.22357148\n",
      "Iteration 46, loss = 0.23828303\n",
      "Iteration 47, loss = 0.21536788\n",
      "Iteration 48, loss = 0.20052779\n",
      "Iteration 49, loss = 0.21020876\n",
      "Iteration 50, loss = 0.24235629\n",
      "Iteration 51, loss = 0.21750287\n",
      "Iteration 52, loss = 0.21407513\n",
      "Iteration 53, loss = 0.19508397\n",
      "Iteration 54, loss = 0.20577456\n",
      "Iteration 55, loss = 0.19947766\n",
      "Iteration 56, loss = 0.19007126\n",
      "Iteration 57, loss = 0.18999006\n",
      "Iteration 58, loss = 0.21393773\n",
      "Iteration 59, loss = 0.24938695\n",
      "Iteration 60, loss = 0.20366733\n",
      "Iteration 61, loss = 0.19884984\n",
      "Iteration 62, loss = 0.18816045\n",
      "Iteration 63, loss = 0.18799802\n",
      "Iteration 64, loss = 0.20215566\n",
      "Iteration 65, loss = 0.19164218\n",
      "Iteration 66, loss = 0.19285922\n",
      "Iteration 67, loss = 0.21558152\n",
      "Iteration 68, loss = 0.19715377\n",
      "Iteration 69, loss = 0.20657169\n",
      "Iteration 70, loss = 0.19427827\n",
      "Iteration 71, loss = 0.18556486\n",
      "Iteration 72, loss = 0.18474951\n",
      "Iteration 73, loss = 0.29114257\n",
      "Iteration 74, loss = 0.21493746\n",
      "Iteration 75, loss = 0.20350984\n",
      "Iteration 76, loss = 0.18849241\n",
      "Iteration 77, loss = 0.19270767\n",
      "Iteration 78, loss = 0.18719560\n",
      "Iteration 79, loss = 0.20492111\n",
      "Iteration 80, loss = 0.19703345\n",
      "Iteration 81, loss = 0.20817606\n",
      "Iteration 82, loss = 0.18759929\n",
      "Iteration 83, loss = 0.19860639\n",
      "Training loss did not improve more than tol=0.000100 for 10 consecutive epochs. Stopping.\n"
     ]
    },
    {
     "data": {
      "text/plain": [
       "MLPClassifier(hidden_layer_sizes=(6, 6, 4), learning_rate_init=0.01,\n",
       "              random_state=5, verbose=True)"
      ]
     },
     "execution_count": 38,
     "metadata": {},
     "output_type": "execute_result"
    }
   ],
   "source": [
    "# Import MLPClassifer \n",
    "from sklearn.neural_network import MLPClassifier\n",
    "\n",
    "# Create model object\n",
    "clf = MLPClassifier(hidden_layer_sizes=(6,6,4),\n",
    "                    random_state=5,\n",
    "                    verbose=True,\n",
    "                    learning_rate_init=0.01)\n",
    "\n",
    "# Fit data onto the model\n",
    "clf.fit(X_train,y_train)"
   ]
  },
  {
   "cell_type": "code",
   "execution_count": 39,
   "id": "522422ca",
   "metadata": {},
   "outputs": [
    {
     "data": {
      "text/plain": [
       "0.9284444444444444"
      ]
     },
     "execution_count": 39,
     "metadata": {},
     "output_type": "execute_result"
    }
   ],
   "source": [
    "# Make prediction on test dataset\n",
    "ypred=clf.predict(X_test)\n",
    "\n",
    "# Import accuracy score \n",
    "from sklearn.metrics import accuracy_score\n",
    "\n",
    "# Calcuate accuracy\n",
    "accuracy_score(y_test,ypred)"
   ]
  },
  {
   "cell_type": "code",
   "execution_count": null,
   "id": "06c3d708",
   "metadata": {},
   "outputs": [],
   "source": []
  }
 ],
 "metadata": {
  "kernelspec": {
   "display_name": "Python 3 (ipykernel)",
   "language": "python",
   "name": "python3"
  },
  "language_info": {
   "codemirror_mode": {
    "name": "ipython",
    "version": 3
   },
   "file_extension": ".py",
   "mimetype": "text/x-python",
   "name": "python",
   "nbconvert_exporter": "python",
   "pygments_lexer": "ipython3",
   "version": "3.9.12"
  }
 },
 "nbformat": 4,
 "nbformat_minor": 5
}
