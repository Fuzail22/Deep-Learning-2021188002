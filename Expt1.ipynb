{
 "cells": [
  {
   "cell_type": "code",
   "execution_count": 1,
   "id": "246959aa",
   "metadata": {},
   "outputs": [],
   "source": [
    "import tensorflow as tf"
   ]
  },
  {
   "cell_type": "code",
   "execution_count": 2,
   "id": "9b94eb06",
   "metadata": {},
   "outputs": [
    {
     "name": "stdout",
     "output_type": "stream",
     "text": [
      "tf.Tensor(\n",
      "[[11 22 33 44]\n",
      " [ 2 25  1  8]\n",
      " [ 5  7 78 12]\n",
      " [95 21 47 20]], shape=(4, 4), dtype=int32)\n"
     ]
    }
   ],
   "source": [
    "mat = tf.constant([[11,22,33,44],[2,25,1,8],[5,7,78,12],[95,21,47,20]])\n",
    "print(mat)"
   ]
  },
  {
   "cell_type": "code",
   "execution_count": 3,
   "id": "18c2c4c1",
   "metadata": {},
   "outputs": [],
   "source": [
    "matmax = tf.math.reduce_max(mat,axis = 1)"
   ]
  },
  {
   "cell_type": "code",
   "execution_count": 4,
   "id": "b3ceb0a6",
   "metadata": {},
   "outputs": [
    {
     "data": {
      "text/plain": [
       "<tf.Tensor: shape=(4,), dtype=int32, numpy=array([44, 25, 78, 95])>"
      ]
     },
     "execution_count": 4,
     "metadata": {},
     "output_type": "execute_result"
    }
   ],
   "source": [
    "matmax"
   ]
  },
  {
   "cell_type": "code",
   "execution_count": 8,
   "id": "d059b2cc",
   "metadata": {},
   "outputs": [],
   "source": [
    "vtr1 = tf.constant([[2,5,1],[1,2,3],[9,7,8]])\n",
    "vtr2 = tf.constant([[13,14,11],[6,3,45],[71,1,10]])\n",
    "vtr3 = vtr1 + vtr2"
   ]
  },
  {
   "cell_type": "code",
   "execution_count": 9,
   "id": "72a3dce0",
   "metadata": {},
   "outputs": [
    {
     "data": {
      "text/plain": [
       "<tf.Tensor: shape=(3, 3), dtype=int32, numpy=\n",
       "array([[15, 19, 12],\n",
       "       [ 7,  5, 48],\n",
       "       [80,  8, 18]])>"
      ]
     },
     "execution_count": 9,
     "metadata": {},
     "output_type": "execute_result"
    }
   ],
   "source": [
    "vtr3"
   ]
  },
  {
   "cell_type": "code",
   "execution_count": 10,
   "id": "fcc4a505",
   "metadata": {},
   "outputs": [
    {
     "data": {
      "text/plain": [
       "<tf.Tensor: shape=(3, 2), dtype=int32, numpy=\n",
       "array([[57,  5],\n",
       "       [38, 46],\n",
       "       [73, 75]])>"
      ]
     },
     "execution_count": 10,
     "metadata": {},
     "output_type": "execute_result"
    }
   ],
   "source": [
    "vtr4 = tf.constant([[1,3],[4,45],[6,67]])\n",
    "list1 = [[56,2],[34,1],[67,8]]\n",
    "vtr5 = vtr4 + list1\n",
    "vtr5"
   ]
  }
 ],
 "metadata": {
  "kernelspec": {
   "display_name": "Python 3 (ipykernel)",
   "language": "python",
   "name": "python3"
  },
  "language_info": {
   "codemirror_mode": {
    "name": "ipython",
    "version": 3
   },
   "file_extension": ".py",
   "mimetype": "text/x-python",
   "name": "python",
   "nbconvert_exporter": "python",
   "pygments_lexer": "ipython3",
   "version": "3.10.2"
  }
 },
 "nbformat": 4,
 "nbformat_minor": 5
}
