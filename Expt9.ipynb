{
 "cells": [
  {
   "cell_type": "code",
   "execution_count": 5,
   "id": "52e549d3",
   "metadata": {
    "scrolled": true
   },
   "outputs": [
    {
     "name": "stdout",
     "output_type": "stream",
     "text": [
      "Note: you may need to restart the kernel to use updated packages.Requirement already satisfied: nltk in d:\\au\\sem2\\dl lab\\dl_lab\\lib\\site-packages (3.7)\n",
      "Requirement already satisfied: joblib in d:\\au\\sem2\\dl lab\\dl_lab\\lib\\site-packages (from nltk) (1.1.0)\n",
      "Requirement already satisfied: click in d:\\au\\sem2\\dl lab\\dl_lab\\lib\\site-packages (from nltk) (8.1.3)\n",
      "Requirement already satisfied: tqdm in d:\\au\\sem2\\dl lab\\dl_lab\\lib\\site-packages (from nltk) (4.64.1)\n",
      "Requirement already satisfied: regex>=2021.8.3 in d:\\au\\sem2\\dl lab\\dl_lab\\lib\\site-packages (from nltk) (2022.8.17)\n",
      "Requirement already satisfied: colorama in d:\\au\\sem2\\dl lab\\dl_lab\\lib\\site-packages (from click->nltk) (0.4.5)\n",
      "\n"
     ]
    },
    {
     "name": "stderr",
     "output_type": "stream",
     "text": [
      "WARNING: You are using pip version 21.2.4; however, version 22.2.2 is available.\n",
      "You should consider upgrading via the 'D:\\AU\\sem2\\DL lab\\dl_lab\\Scripts\\python.exe -m pip install --upgrade pip' command.\n"
     ]
    }
   ],
   "source": [
    "#pip install nltk"
   ]
  },
  {
   "cell_type": "code",
   "execution_count": 7,
   "id": "98514b71",
   "metadata": {},
   "outputs": [
    {
     "name": "stderr",
     "output_type": "stream",
     "text": [
      "[nltk_data] Downloading package stopwords to\n",
      "[nltk_data]     C:\\Users\\Mortal\\AppData\\Roaming\\nltk_data...\n",
      "[nltk_data]   Unzipping corpora\\stopwords.zip.\n"
     ]
    },
    {
     "data": {
      "text/plain": [
       "True"
      ]
     },
     "execution_count": 7,
     "metadata": {},
     "output_type": "execute_result"
    }
   ],
   "source": [
    "# import nltk\n",
    "# import ssl\n",
    "\n",
    "# try:\n",
    "#     _create_unverified_https_context = ssl._create_unverified_context\n",
    "# except AttributeError:\n",
    "#     pass\n",
    "# else:\n",
    "#     ssl._create_default_https_context = _create_unverified_https_context\n",
    "\n",
    "# nltk.download('stopwords')"
   ]
  },
  {
   "cell_type": "code",
   "execution_count": 2,
   "id": "4f3b0b70",
   "metadata": {},
   "outputs": [
    {
     "name": "stderr",
     "output_type": "stream",
     "text": [
      "[nltk_data] Error loading stopwords: <urlopen error [WinError 10060] A\n",
      "[nltk_data]     connection attempt failed because the connected party\n",
      "[nltk_data]     did not properly respond after a period of time, or\n",
      "[nltk_data]     established connection failed because connected host\n",
      "[nltk_data]     has failed to respond>\n"
     ]
    },
    {
     "data": {
      "text/plain": [
       "False"
      ]
     },
     "execution_count": 2,
     "metadata": {},
     "output_type": "execute_result"
    }
   ],
   "source": [
    "#import nltk\n",
    "#nltk.download('stopwords')"
   ]
  },
  {
   "cell_type": "code",
   "execution_count": 17,
   "id": "5e3bc218",
   "metadata": {},
   "outputs": [],
   "source": [
    "import numpy as np\n",
    "import pandas as pd \n",
    "import time \n",
    "import re\n",
    "from nltk.corpus import stopwords\n",
    "from nltk.tokenize import sent_tokenize, word_tokenize\n",
    "english_stop_words = stopwords.words('english')\n",
    "from sklearn.feature_extraction.text import CountVectorizer\n",
    "from sklearn.feature_extraction.text import TfidfVectorizer\n",
    "from nltk.stem.porter import PorterStemmer\n",
    "from nltk.stem import WordNetLemmatizer\n",
    "from sklearn.model_selection import train_test_split\n",
    "from sklearn.preprocessing import LabelEncoder\n",
    "from sklearn.naive_bayes import GaussianNB\n",
    "from sklearn.naive_bayes import MultinomialNB\n",
    "from sklearn.tree import DecisionTreeClassifier\n",
    "from sklearn.ensemble import RandomForestClassifier\n",
    "from sklearn.linear_model import LogisticRegression\n",
    "from sklearn.svm import LinearSVC\n",
    "from sklearn.metrics import classification_report\n",
    "import seaborn as sns\n",
    "sns.set(style ='whitegrid')\n",
    "pd.set_option('display.max_columns',None)"
   ]
  },
  {
   "cell_type": "code",
   "execution_count": 19,
   "id": "938b8d1e",
   "metadata": {},
   "outputs": [],
   "source": [
    "headers=['Tweet_ID','Entity','Sentiment','Tweet_content']\n",
    "train_df=pd.read_csv('twitter_training.csv', names=headers)\n",
    "valid_df=pd.read_csv('twitter_validation.csv', names=headers)"
   ]
  },
  {
   "cell_type": "code",
   "execution_count": 20,
   "id": "fdc135a0",
   "metadata": {},
   "outputs": [
    {
     "data": {
      "text/html": [
       "<div>\n",
       "<style scoped>\n",
       "    .dataframe tbody tr th:only-of-type {\n",
       "        vertical-align: middle;\n",
       "    }\n",
       "\n",
       "    .dataframe tbody tr th {\n",
       "        vertical-align: top;\n",
       "    }\n",
       "\n",
       "    .dataframe thead th {\n",
       "        text-align: right;\n",
       "    }\n",
       "</style>\n",
       "<table border=\"1\" class=\"dataframe\">\n",
       "  <thead>\n",
       "    <tr style=\"text-align: right;\">\n",
       "      <th></th>\n",
       "      <th>Tweet_ID</th>\n",
       "      <th>Entity</th>\n",
       "      <th>Sentiment</th>\n",
       "      <th>Tweet_content</th>\n",
       "    </tr>\n",
       "  </thead>\n",
       "  <tbody>\n",
       "    <tr>\n",
       "      <th>0</th>\n",
       "      <td>2401</td>\n",
       "      <td>Borderlands</td>\n",
       "      <td>Positive</td>\n",
       "      <td>im getting on borderlands and i will murder yo...</td>\n",
       "    </tr>\n",
       "    <tr>\n",
       "      <th>1</th>\n",
       "      <td>2401</td>\n",
       "      <td>Borderlands</td>\n",
       "      <td>Positive</td>\n",
       "      <td>I am coming to the borders and I will kill you...</td>\n",
       "    </tr>\n",
       "    <tr>\n",
       "      <th>2</th>\n",
       "      <td>2401</td>\n",
       "      <td>Borderlands</td>\n",
       "      <td>Positive</td>\n",
       "      <td>im getting on borderlands and i will kill you ...</td>\n",
       "    </tr>\n",
       "    <tr>\n",
       "      <th>3</th>\n",
       "      <td>2401</td>\n",
       "      <td>Borderlands</td>\n",
       "      <td>Positive</td>\n",
       "      <td>im coming on borderlands and i will murder you...</td>\n",
       "    </tr>\n",
       "    <tr>\n",
       "      <th>4</th>\n",
       "      <td>2401</td>\n",
       "      <td>Borderlands</td>\n",
       "      <td>Positive</td>\n",
       "      <td>im getting on borderlands 2 and i will murder ...</td>\n",
       "    </tr>\n",
       "  </tbody>\n",
       "</table>\n",
       "</div>"
      ],
      "text/plain": [
       "   Tweet_ID       Entity Sentiment  \\\n",
       "0      2401  Borderlands  Positive   \n",
       "1      2401  Borderlands  Positive   \n",
       "2      2401  Borderlands  Positive   \n",
       "3      2401  Borderlands  Positive   \n",
       "4      2401  Borderlands  Positive   \n",
       "\n",
       "                                       Tweet_content  \n",
       "0  im getting on borderlands and i will murder yo...  \n",
       "1  I am coming to the borders and I will kill you...  \n",
       "2  im getting on borderlands and i will kill you ...  \n",
       "3  im coming on borderlands and i will murder you...  \n",
       "4  im getting on borderlands 2 and i will murder ...  "
      ]
     },
     "execution_count": 20,
     "metadata": {},
     "output_type": "execute_result"
    }
   ],
   "source": [
    "train_df.head()"
   ]
  },
  {
   "cell_type": "code",
   "execution_count": 21,
   "id": "d267f916",
   "metadata": {},
   "outputs": [
    {
     "name": "stdout",
     "output_type": "stream",
     "text": [
      "<class 'pandas.core.frame.DataFrame'>\n",
      "RangeIndex: 74682 entries, 0 to 74681\n",
      "Data columns (total 4 columns):\n",
      " #   Column         Non-Null Count  Dtype \n",
      "---  ------         --------------  ----- \n",
      " 0   Tweet_ID       74682 non-null  int64 \n",
      " 1   Entity         74682 non-null  object\n",
      " 2   Sentiment      74682 non-null  object\n",
      " 3   Tweet_content  73996 non-null  object\n",
      "dtypes: int64(1), object(3)\n",
      "memory usage: 2.3+ MB\n"
     ]
    }
   ],
   "source": [
    "train_df.info()"
   ]
  },
  {
   "cell_type": "code",
   "execution_count": 22,
   "id": "9f743f22",
   "metadata": {},
   "outputs": [
    {
     "data": {
      "text/plain": [
       "Negative      22542\n",
       "Positive      20832\n",
       "Neutral       18318\n",
       "Irrelevant    12990\n",
       "Name: Sentiment, dtype: int64"
      ]
     },
     "execution_count": 22,
     "metadata": {},
     "output_type": "execute_result"
    }
   ],
   "source": [
    "train_df['Sentiment'].value_counts()"
   ]
  },
  {
   "cell_type": "code",
   "execution_count": 23,
   "id": "f7c83f97",
   "metadata": {},
   "outputs": [
    {
     "data": {
      "text/plain": [
       "686"
      ]
     },
     "execution_count": 23,
     "metadata": {},
     "output_type": "execute_result"
    }
   ],
   "source": [
    "train_df['Tweet_content'].isnull().sum()"
   ]
  },
  {
   "cell_type": "code",
   "execution_count": 24,
   "id": "e72b6832",
   "metadata": {},
   "outputs": [],
   "source": [
    "train_df.dropna(axis=0, inplace=True)"
   ]
  },
  {
   "cell_type": "code",
   "execution_count": 25,
   "id": "6b6cd230",
   "metadata": {},
   "outputs": [],
   "source": [
    "tweet_train  = train_df[\"Tweet_content\"]\n",
    "tweet_valid=valid_df[\"Tweet_content\"]\n",
    "target=train_df['Sentiment']"
   ]
  },
  {
   "cell_type": "code",
   "execution_count": 26,
   "id": "6db4bb59",
   "metadata": {},
   "outputs": [],
   "source": [
    "REPLACE_WITH_SPACE = re.compile(\"(@)\")\n",
    "SPACE = \" \"\n",
    "def preprocess_reviews(reviews):  \n",
    "    reviews = [REPLACE_WITH_SPACE.sub(SPACE, line.lower()) for line in reviews]\n",
    "    return reviews\n",
    "reviews_train_clean = preprocess_reviews(tweet_train)\n",
    "reviews_valid_clean = preprocess_reviews(tweet_valid)"
   ]
  },
  {
   "cell_type": "code",
   "execution_count": 27,
   "id": "6f18bcf3",
   "metadata": {},
   "outputs": [],
   "source": [
    "def remove_stop_words(corpus):\n",
    "    removed_stop_words = []\n",
    "    for review in corpus:\n",
    "        removed_stop_words.append(\n",
    "            ' '.join([word for word in review.split()  if word not in english_stop_words]))\n",
    "    return removed_stop_words\n",
    "no_stop_words_train = remove_stop_words(reviews_train_clean)\n",
    "no_stop_words_valid = remove_stop_words(reviews_valid_clean)"
   ]
  },
  {
   "cell_type": "code",
   "execution_count": 28,
   "id": "28069c58",
   "metadata": {},
   "outputs": [],
   "source": [
    "def get_stemmed_text(corpus):\n",
    "    stemmer = PorterStemmer()\n",
    "    return [' '.join([stemmer.stem(word) for word in review.split()]) for review in corpus]\n",
    "stemmed_reviews_train = get_stemmed_text(no_stop_words_train)\n",
    "stemmed_reviews_test = get_stemmed_text(no_stop_words_valid)"
   ]
  },
  {
   "cell_type": "code",
   "execution_count": 29,
   "id": "622ee368",
   "metadata": {},
   "outputs": [],
   "source": [
    "tfidf_vectorizer = TfidfVectorizer()\n",
    "tfidf_vectorizer.fit(stemmed_reviews_train)\n",
    "X = tfidf_vectorizer.transform(stemmed_reviews_train)\n",
    "X_test = tfidf_vectorizer.transform(stemmed_reviews_test)"
   ]
  },
  {
   "cell_type": "code",
   "execution_count": 30,
   "id": "3c947911",
   "metadata": {},
   "outputs": [],
   "source": [
    "X_train, X_val, y_train, y_val = train_test_split(X, target, train_size = 0.7)"
   ]
  },
  {
   "cell_type": "code",
   "execution_count": 31,
   "id": "da55fe3f",
   "metadata": {},
   "outputs": [
    {
     "name": "stderr",
     "output_type": "stream",
     "text": [
      "[Parallel(n_jobs=1)]: Using backend SequentialBackend with 1 concurrent workers.\n",
      "[Parallel(n_jobs=1)]: Done  10 out of  10 | elapsed:   34.0s finished\n",
      "[Parallel(n_jobs=1)]: Using backend SequentialBackend with 1 concurrent workers.\n",
      "[Parallel(n_jobs=1)]: Done  10 out of  10 | elapsed:    0.1s finished\n"
     ]
    },
    {
     "name": "stdout",
     "output_type": "stream",
     "text": [
      "              precision    recall  f1-score   support\n",
      "\n",
      "  Irrelevant       0.90      0.82      0.86      3791\n",
      "    Negative       0.89      0.90      0.89      6877\n",
      "     Neutral       0.90      0.86      0.88      5421\n",
      "    Positive       0.83      0.89      0.86      6110\n",
      "\n",
      "    accuracy                           0.87     22199\n",
      "   macro avg       0.88      0.87      0.87     22199\n",
      "weighted avg       0.87      0.87      0.87     22199\n",
      "\n"
     ]
    }
   ],
   "source": [
    "text_classifier = RandomForestClassifier(n_estimators=10, random_state=0, verbose = 1)\n",
    "text_classifier.fit(X_train, y_train)\n",
    "y_pred=text_classifier.predict(X_val)\n",
    "print(classification_report(y_val,y_pred))"
   ]
  },
  {
   "cell_type": "code",
   "execution_count": 34,
   "id": "f017619e",
   "metadata": {},
   "outputs": [
    {
     "name": "stdout",
     "output_type": "stream",
     "text": [
      "  (0, 7422)\t0.1930443673974154\n",
      "  (0, 8269)\t0.4696012678473787\n",
      "  (0, 10125)\t0.16840169464729332\n",
      "  (0, 10482)\t0.2043276634663615\n",
      "  (0, 11196)\t0.2993249242660739\n",
      "  (0, 11486)\t0.23183684192909754\n",
      "  (0, 12895)\t0.2012876951064786\n",
      "  (0, 15742)\t0.12477621591002425\n",
      "  (0, 17977)\t0.1906436645312167\n",
      "  (0, 19714)\t0.21981536937286927\n",
      "  (0, 21292)\t0.30913554234971674\n",
      "  (0, 23215)\t0.15550903852323983\n",
      "  (0, 23274)\t0.20043425012453225\n",
      "  (0, 23522)\t0.33585209559128143\n",
      "  (0, 23838)\t0.16033078712943968\n",
      "  (0, 26164)\t0.14109309490171337\n",
      "  (0, 27990)\t0.17845630820102437\n",
      "  (0, 28199)\t0.1944941679484147\n",
      "  (1, 956)\t0.41318231847280246\n",
      "  (1, 3670)\t0.27315738113617843\n",
      "  (1, 3766)\t0.2247351731468944\n",
      "  (1, 9598)\t0.36530375406416526\n",
      "  (1, 10504)\t0.25096451234364636\n",
      "  (1, 11411)\t0.2903730363242916\n",
      "  (1, 13010)\t0.29348145561931177\n",
      "  :\t:\n",
      "  (22195, 25628)\t0.2844594408520723\n",
      "  (22196, 2448)\t0.32514789947246486\n",
      "  (22196, 4061)\t0.35455674357071004\n",
      "  (22196, 10747)\t0.26461038653157676\n",
      "  (22196, 15742)\t0.28393556201506576\n",
      "  (22196, 16251)\t0.4526806228261932\n",
      "  (22196, 17891)\t0.4517778998963265\n",
      "  (22196, 21049)\t0.457063761310094\n",
      "  (22197, 4679)\t0.43334768653858025\n",
      "  (22197, 4764)\t0.3081562597777641\n",
      "  (22197, 10109)\t0.23602893766253263\n",
      "  (22197, 10984)\t0.4680803430568217\n",
      "  (22197, 11486)\t0.17859000850084958\n",
      "  (22197, 14647)\t0.2361573453259334\n",
      "  (22197, 15251)\t0.2365015711507472\n",
      "  (22197, 19372)\t0.29356154011037916\n",
      "  (22197, 20855)\t0.4611557017805033\n",
      "  (22198, 4409)\t0.4987932676053079\n",
      "  (22198, 5784)\t0.46447811763424457\n",
      "  (22198, 6151)\t0.17130729524656327\n",
      "  (22198, 11650)\t0.3789857509732448\n",
      "  (22198, 14766)\t0.3020009858207577\n",
      "  (22198, 15818)\t0.2278220644045837\n",
      "  (22198, 19732)\t0.3532942774507991\n",
      "  (22198, 24426)\t0.3075136267539429   ['Negative' 'Negative' 'Irrelevant' ... 'Positive' 'Neutral' 'Positive'] 34883    Irrelevant\n",
      "28728      Negative\n",
      "74036    Irrelevant\n",
      "43326      Positive\n",
      "50431      Negative\n",
      "            ...    \n",
      "21360      Positive\n",
      "13246      Negative\n",
      "3928       Positive\n",
      "16266       Neutral\n",
      "28045      Positive\n",
      "Name: Sentiment, Length: 22199, dtype: object\n"
     ]
    }
   ],
   "source": [
    "print(X_val,\" \",y_pred)"
   ]
  },
  {
   "cell_type": "code",
   "execution_count": null,
   "id": "bf7e5c00",
   "metadata": {},
   "outputs": [],
   "source": []
  }
 ],
 "metadata": {
  "kernelspec": {
   "display_name": "Python 3 (ipykernel)",
   "language": "python",
   "name": "python3"
  },
  "language_info": {
   "codemirror_mode": {
    "name": "ipython",
    "version": 3
   },
   "file_extension": ".py",
   "mimetype": "text/x-python",
   "name": "python",
   "nbconvert_exporter": "python",
   "pygments_lexer": "ipython3",
   "version": "3.10.2"
  }
 },
 "nbformat": 4,
 "nbformat_minor": 5
}
